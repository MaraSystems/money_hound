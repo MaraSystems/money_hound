{
 "cells": [
  {
   "cell_type": "markdown",
   "id": "37eb6cfd",
   "metadata": {},
   "source": [
    "# Predicting Fraud\n",
    "\n",
    "### On `Mobile money` transactions for `Mara Bank`"
   ]
  },
  {
   "cell_type": "markdown",
   "id": "eb1bec3f",
   "metadata": {},
   "source": [
    "## Sections in this notebook.\n"
   ]
  },
  {
   "cell_type": "markdown",
   "id": "4079202a",
   "metadata": {},
   "source": [
    "- Introduction\n",
    "    - Project Overview\n",
    "    - Objectives\n",
    "    - Dataset Background\n",
    "\n",
    "- Data Importation\n",
    "    - Loading Required Libraries\n",
    "    - Reading Data Files\n",
    "    - Initial Data Preview\n",
    "\n",
    "- Data Normalization\n",
    "    - Feature Encoding\n",
    "    - Feature Normilization\n",
    "    \n",
    "\n",
    "- Model Training\n",
    "    - Pick Models\n",
    "    - Split Data\n",
    "    - Training\n",
    "\n",
    "- Initial Evaluation\n",
    "    - Cross Validation\n",
    "    - Classification Report\n",
    "\n",
    "- Fine Tuning\n",
    "    - Initialize Parameters\n",
    "    - Random Tuning\n",
    "    - Grid Tuning\n",
    "\n",
    "- Final Evaluation\n",
    "    - Fit & Predict\n",
    "    - Evaluation\n",
    "\n",
    "- Insights and Findings\n",
    "    - Key Patterns\n",
    "    - Anomalies\n",
    "    - Business Insights\n",
    "    - Recommendations"
   ]
  },
  {
   "cell_type": "markdown",
   "id": "10c2bb16",
   "metadata": {},
   "source": [
    "## Introduction\n",
    "\n",
    "- Project Overview\n",
    "- Objectives\n",
    "- Dataset Background"
   ]
  },
  {
   "cell_type": "markdown",
   "id": "947fc56e",
   "metadata": {},
   "source": [
    "### Project Overview"
   ]
  },
  {
   "cell_type": "markdown",
   "id": "5a7c2d90",
   "metadata": {},
   "source": [
    "Every second, Mara Bank’s mobile money platform processes countless transactions, airtime top-ups, utility bill payments, and peer-to-peer transfers; flowing across Nigeria.\n",
    "\n",
    "But hidden within this stream are fraudulent attempts: some subtle, others blatant. Fraudsters exploit timing gaps, customer behavior, and even system trust. Spotting them in real-time requires not just rules but predictive intelligence.\n",
    "\n",
    "This project is about building a fraud prediction model that learns from historical transactions to detect and flag suspicious activity before it spreads."
   ]
  },
  {
   "cell_type": "markdown",
   "id": "4731a744",
   "metadata": {},
   "source": [
    "### Project Objective"
   ]
  },
  {
   "cell_type": "markdown",
   "id": "122c38b9",
   "metadata": {},
   "source": [
    "The Key objectives are:\n",
    "\n",
    "- Detect anomalies at scale: Use transaction history to identify deviations from normal user and network behavior.\n",
    "\n",
    "- Develop predictive features: Incorporate transaction patterns, velocity, amounts, geolocation, and device data that highlight fraud signals.\n",
    "\n",
    "- Train robust models: Experiment with machine learning algorithms (tree-based models, gradient boosting) to capture both simple and complex fraud patterns.\n",
    "\n",
    "- Evaluate with precision: Prioritize recall and precision in performance metrics — missing fraud is costly, but so is flagging too many genuine users.\n",
    "\n",
    "- Enable real-time inference: Prepare the model for deployment so Mara Bank can flag or block fraudulent activities instantly as they occur.\n",
    "\n",
    "The ultimate goal: predict fraudulent transactions with high accuracy, minimizing financial loss while maintaining customer trust."
   ]
  },
  {
   "cell_type": "markdown",
   "id": "5105fcda",
   "metadata": {},
   "source": [
    "### Background of Dataset"
   ]
  },
  {
   "cell_type": "markdown",
   "id": "4395c4fb",
   "metadata": {},
   "source": [
    "The dataset was generated mimicing the different scenerios transactions can occur in Nigeria. It contains transactions of diferrent banks, however we will be focusing on the transactions that belongs to `Mara Bank` for this project.\n",
    "\n",
    "This dataset contains the following:\n",
    "\n",
    "- `amount`: The value of the transaction.\n",
    "- `balance`: The account balance after the transaction.\n",
    "- `time`: The timestamp of the transaction.\n",
    "- `holder`: The account number of the transaction's initiator or recipient.\n",
    "- `kyc`: The kyc level of the account\n",
    "- `holder_bvn`: The BVN of the transaction's initiator or recipient.\n",
    "- `holder_bank`: The bank of the related party.\n",
    "- `related`: The account number or entity related to the transaction (e.g., recipient account, ATM bank).\n",
    "- `related_bvn`: The BVN of the related party.\n",
    "- `related_bank`: The bank of the related party.\n",
    "- `state`, `latitude`, `longitude`: Location details of the transaction.\n",
    "- `status`: The outcome of the transaction (e.g., 'SUCCESS', 'FAILED').\n",
    "- `type`: The transaction type (e.g., 'DEBIT', 'CREDIT').\n",
    "- `category`: The specific class of transaction (e.g., 'OPENING', 'WITHDRAWAL', 'PAYMENT', 'TRANSFER', 'REVERSAL', 'BILL').\n",
    "- `channel`: The channel used for the transaction (e.g., 'CARD', 'APP', 'USSD').\n",
    "- `device`: The device used for the transaction (e.g., 'ATM-001', 'MOBILE-003') .\n",
    "- `nonce`: A unique identifier for related transactions.\n",
    "- `reported`: Marks reported transactions?"
   ]
  },
  {
   "cell_type": "markdown",
   "id": "0b584884",
   "metadata": {},
   "source": [
    "## Data Importation\n",
    "\n",
    "- Loading Required Libraries\n",
    "- Reading Data Files\n",
    "- Initial Data Preview"
   ]
  },
  {
   "cell_type": "markdown",
   "id": "693c9c91",
   "metadata": {},
   "source": [
    "### Loading required libraries"
   ]
  },
  {
   "cell_type": "code",
   "execution_count": 28,
   "id": "b577de17",
   "metadata": {},
   "outputs": [
    {
     "name": "stdout",
     "output_type": "stream",
     "text": [
      "The autoreload extension is already loaded. To reload it, use:\n",
      "  %reload_ext autoreload\n"
     ]
    }
   ],
   "source": [
    "%load_ext autoreload\n",
    "%autoreload 2"
   ]
  },
  {
   "cell_type": "code",
   "execution_count": 29,
   "id": "7ce82ce5",
   "metadata": {},
   "outputs": [],
   "source": [
    "# Import modules\n",
    "\n",
    "import sys\n",
    "import os\n",
    "import pandas as pd\n",
    "import numpy as np\n",
    "import matplotlib.pyplot as plt\n",
    "import seaborn as sns\n",
    "from sklearn.model_selection import TimeSeriesSplit, cross_val_score, GridSearchCV, train_test_split, RandomizedSearchCV\n",
    "from sklearn.metrics import classification_report, confusion_matrix, roc_auc_score, roc_curve, ConfusionMatrixDisplay\n",
    "from sklearn.ensemble import RandomForestRegressor\n",
    "from sklearn.linear_model import LinearRegression\n",
    "from sklearn.tree import DecisionTreeRegressor\n",
    "from xgboost import XGBRegressor, XGBRFRegressor\n",
    "from sklearn.preprocessing import RobustScaler\n",
    "import joblib\n",
    "from datetime import  datetime"
   ]
  },
  {
   "cell_type": "code",
   "execution_count": 30,
   "id": "41ef375a",
   "metadata": {},
   "outputs": [],
   "source": [
    "module_path = os.path.abspath(os.path.join('..'))\n",
    "if module_path not in sys.path:\n",
    "    sys.path.append(module_path)"
   ]
  },
  {
   "cell_type": "code",
   "execution_count": 31,
   "id": "149cf490",
   "metadata": {},
   "outputs": [],
   "source": [
    "from lib import oracle, engineer, analyst"
   ]
  },
  {
   "cell_type": "markdown",
   "id": "f9a7f237",
   "metadata": {},
   "source": [
    "### Reading data files"
   ]
  },
  {
   "cell_type": "code",
   "execution_count": 32,
   "id": "c5c1c3f0",
   "metadata": {},
   "outputs": [],
   "source": [
    "# Load the transactions dataset for the project \n",
    "df = pd.read_csv('../datasets/classified_transactions.csv')"
   ]
  },
  {
   "cell_type": "markdown",
   "id": "749101c7",
   "metadata": {},
   "source": [
    "### Initial data preview"
   ]
  },
  {
   "cell_type": "code",
   "execution_count": 33,
   "id": "843e16e8",
   "metadata": {},
   "outputs": [
    {
     "data": {
      "text/html": [
       "<div>\n",
       "<style scoped>\n",
       "    .dataframe tbody tr th:only-of-type {\n",
       "        vertical-align: middle;\n",
       "    }\n",
       "\n",
       "    .dataframe tbody tr th {\n",
       "        vertical-align: top;\n",
       "    }\n",
       "\n",
       "    .dataframe thead th {\n",
       "        text-align: right;\n",
       "    }\n",
       "</style>\n",
       "<table border=\"1\" class=\"dataframe\">\n",
       "  <thead>\n",
       "    <tr style=\"text-align: right;\">\n",
       "      <th></th>\n",
       "      <th>amount</th>\n",
       "      <th>balance</th>\n",
       "      <th>holder</th>\n",
       "      <th>holder_bvn</th>\n",
       "      <th>related</th>\n",
       "      <th>related_bvn</th>\n",
       "      <th>related_bank</th>\n",
       "      <th>state</th>\n",
       "      <th>latitude</th>\n",
       "      <th>longitude</th>\n",
       "      <th>...</th>\n",
       "      <th>unsual_reported_score</th>\n",
       "      <th>unsual_reported</th>\n",
       "      <th>unsual_reversal_score</th>\n",
       "      <th>unsual_reversal</th>\n",
       "      <th>unsual_related_score</th>\n",
       "      <th>unsual_related</th>\n",
       "      <th>unsual_related_bvn_score</th>\n",
       "      <th>unsual_related_bvn</th>\n",
       "      <th>fraud_score</th>\n",
       "      <th>fraud</th>\n",
       "    </tr>\n",
       "  </thead>\n",
       "  <tbody>\n",
       "    <tr>\n",
       "      <th>0</th>\n",
       "      <td>-0.314803</td>\n",
       "      <td>-0.541285</td>\n",
       "      <td>-0.619772</td>\n",
       "      <td>-0.791519</td>\n",
       "      <td>0.432938</td>\n",
       "      <td>-0.293271</td>\n",
       "      <td>-0.62069</td>\n",
       "      <td>0.000000</td>\n",
       "      <td>0.452051</td>\n",
       "      <td>0.076179</td>\n",
       "      <td>...</td>\n",
       "      <td>0.098439</td>\n",
       "      <td>False</td>\n",
       "      <td>0.094319</td>\n",
       "      <td>False</td>\n",
       "      <td>0.148919</td>\n",
       "      <td>False</td>\n",
       "      <td>0.146113</td>\n",
       "      <td>False</td>\n",
       "      <td>0.135535</td>\n",
       "      <td>False</td>\n",
       "    </tr>\n",
       "    <tr>\n",
       "      <th>1</th>\n",
       "      <td>0.613989</td>\n",
       "      <td>-0.400131</td>\n",
       "      <td>-0.615970</td>\n",
       "      <td>-0.780919</td>\n",
       "      <td>0.432938</td>\n",
       "      <td>-0.293271</td>\n",
       "      <td>-0.62069</td>\n",
       "      <td>-0.578947</td>\n",
       "      <td>0.693422</td>\n",
       "      <td>-0.095731</td>\n",
       "      <td>...</td>\n",
       "      <td>0.087991</td>\n",
       "      <td>False</td>\n",
       "      <td>0.090895</td>\n",
       "      <td>False</td>\n",
       "      <td>0.137967</td>\n",
       "      <td>False</td>\n",
       "      <td>0.145474</td>\n",
       "      <td>False</td>\n",
       "      <td>0.264673</td>\n",
       "      <td>False</td>\n",
       "    </tr>\n",
       "    <tr>\n",
       "      <th>2</th>\n",
       "      <td>1.001715</td>\n",
       "      <td>-0.341206</td>\n",
       "      <td>-0.608365</td>\n",
       "      <td>-0.745583</td>\n",
       "      <td>0.432938</td>\n",
       "      <td>-0.293271</td>\n",
       "      <td>-0.62069</td>\n",
       "      <td>0.105263</td>\n",
       "      <td>1.005470</td>\n",
       "      <td>1.210116</td>\n",
       "      <td>...</td>\n",
       "      <td>0.079467</td>\n",
       "      <td>False</td>\n",
       "      <td>0.082812</td>\n",
       "      <td>False</td>\n",
       "      <td>0.128382</td>\n",
       "      <td>False</td>\n",
       "      <td>0.128906</td>\n",
       "      <td>False</td>\n",
       "      <td>0.298879</td>\n",
       "      <td>False</td>\n",
       "    </tr>\n",
       "    <tr>\n",
       "      <th>3</th>\n",
       "      <td>0.057010</td>\n",
       "      <td>-0.484778</td>\n",
       "      <td>-0.604563</td>\n",
       "      <td>-0.720848</td>\n",
       "      <td>0.432938</td>\n",
       "      <td>-0.293271</td>\n",
       "      <td>-0.62069</td>\n",
       "      <td>0.473684</td>\n",
       "      <td>-0.555446</td>\n",
       "      <td>0.871618</td>\n",
       "      <td>...</td>\n",
       "      <td>0.075602</td>\n",
       "      <td>False</td>\n",
       "      <td>0.082261</td>\n",
       "      <td>False</td>\n",
       "      <td>0.125092</td>\n",
       "      <td>False</td>\n",
       "      <td>0.125831</td>\n",
       "      <td>False</td>\n",
       "      <td>0.181967</td>\n",
       "      <td>False</td>\n",
       "    </tr>\n",
       "    <tr>\n",
       "      <th>4</th>\n",
       "      <td>0.678680</td>\n",
       "      <td>-0.390299</td>\n",
       "      <td>-0.600760</td>\n",
       "      <td>-0.713781</td>\n",
       "      <td>0.432938</td>\n",
       "      <td>-0.293271</td>\n",
       "      <td>-0.62069</td>\n",
       "      <td>0.000000</td>\n",
       "      <td>0.452051</td>\n",
       "      <td>0.076179</td>\n",
       "      <td>...</td>\n",
       "      <td>0.075602</td>\n",
       "      <td>False</td>\n",
       "      <td>0.077004</td>\n",
       "      <td>False</td>\n",
       "      <td>0.125744</td>\n",
       "      <td>False</td>\n",
       "      <td>0.121731</td>\n",
       "      <td>False</td>\n",
       "      <td>0.274537</td>\n",
       "      <td>False</td>\n",
       "    </tr>\n",
       "  </tbody>\n",
       "</table>\n",
       "<p>5 rows × 213 columns</p>\n",
       "</div>"
      ],
      "text/plain": [
       "     amount   balance    holder  holder_bvn   related  related_bvn  \\\n",
       "0 -0.314803 -0.541285 -0.619772   -0.791519  0.432938    -0.293271   \n",
       "1  0.613989 -0.400131 -0.615970   -0.780919  0.432938    -0.293271   \n",
       "2  1.001715 -0.341206 -0.608365   -0.745583  0.432938    -0.293271   \n",
       "3  0.057010 -0.484778 -0.604563   -0.720848  0.432938    -0.293271   \n",
       "4  0.678680 -0.390299 -0.600760   -0.713781  0.432938    -0.293271   \n",
       "\n",
       "   related_bank     state  latitude  longitude  ...  unsual_reported_score  \\\n",
       "0      -0.62069  0.000000  0.452051   0.076179  ...               0.098439   \n",
       "1      -0.62069 -0.578947  0.693422  -0.095731  ...               0.087991   \n",
       "2      -0.62069  0.105263  1.005470   1.210116  ...               0.079467   \n",
       "3      -0.62069  0.473684 -0.555446   0.871618  ...               0.075602   \n",
       "4      -0.62069  0.000000  0.452051   0.076179  ...               0.075602   \n",
       "\n",
       "   unsual_reported  unsual_reversal_score  unsual_reversal  \\\n",
       "0            False               0.094319            False   \n",
       "1            False               0.090895            False   \n",
       "2            False               0.082812            False   \n",
       "3            False               0.082261            False   \n",
       "4            False               0.077004            False   \n",
       "\n",
       "   unsual_related_score  unsual_related  unsual_related_bvn_score  \\\n",
       "0              0.148919           False                  0.146113   \n",
       "1              0.137967           False                  0.145474   \n",
       "2              0.128382           False                  0.128906   \n",
       "3              0.125092           False                  0.125831   \n",
       "4              0.125744           False                  0.121731   \n",
       "\n",
       "   unsual_related_bvn  fraud_score  fraud  \n",
       "0               False     0.135535  False  \n",
       "1               False     0.264673  False  \n",
       "2               False     0.298879  False  \n",
       "3               False     0.181967  False  \n",
       "4               False     0.274537  False  \n",
       "\n",
       "[5 rows x 213 columns]"
      ]
     },
     "execution_count": 33,
     "metadata": {},
     "output_type": "execute_result"
    }
   ],
   "source": [
    "# Preview the dataset\n",
    "df.head()"
   ]
  },
  {
   "cell_type": "code",
   "execution_count": 34,
   "id": "66dad4b2",
   "metadata": {},
   "outputs": [
    {
     "name": "stdout",
     "output_type": "stream",
     "text": [
      "<class 'pandas.core.frame.DataFrame'>\n",
      "RangeIndex: 20107 entries, 0 to 20106\n",
      "Columns: 213 entries, amount to fraud\n",
      "dtypes: bool(11), float64(202)\n",
      "memory usage: 31.2 MB\n"
     ]
    }
   ],
   "source": [
    "# The basic information about the dataset.\n",
    "df.info()"
   ]
  },
  {
   "cell_type": "code",
   "execution_count": 35,
   "id": "a8ae9f82",
   "metadata": {},
   "outputs": [
    {
     "data": {
      "text/plain": [
       "(20107, 213)"
      ]
     },
     "execution_count": 35,
     "metadata": {},
     "output_type": "execute_result"
    }
   ],
   "source": [
    "# The shape of the dataset\n",
    "df.shape"
   ]
  },
  {
   "cell_type": "markdown",
   "id": "c89d8bf6",
   "metadata": {},
   "source": [
    "## Model Training"
   ]
  },
  {
   "cell_type": "code",
   "execution_count": 36,
   "id": "733e20c2",
   "metadata": {},
   "outputs": [],
   "source": [
    "SEED = 42"
   ]
  },
  {
   "cell_type": "markdown",
   "id": "cd7501ef",
   "metadata": {},
   "source": [
    "### Model Selection"
   ]
  },
  {
   "cell_type": "markdown",
   "id": "c1b46aa6",
   "metadata": {},
   "source": [
    "We will using the following regression estimators as starting point, then select the best and cross validate with them."
   ]
  },
  {
   "cell_type": "code",
   "execution_count": 37,
   "id": "5745cd48",
   "metadata": {},
   "outputs": [],
   "source": [
    "train_models = {\n",
    "    'RandomForestRegressor': RandomForestRegressor(),\n",
    "    'LinearRegression': LinearRegression(),\n",
    "    'DecisionTreeRegressor': DecisionTreeRegressor(),\n",
    "    'XGBRegressor': XGBRegressor(),\n",
    "    'XGBRFRegressor': XGBRFRegressor()\n",
    "}"
   ]
  },
  {
   "cell_type": "code",
   "execution_count": 38,
   "id": "86f983ef",
   "metadata": {},
   "outputs": [],
   "source": [
    "X = df.drop(['fraud_score', 'fraud'], axis=1)\n",
    "y = df['fraud_score']"
   ]
  },
  {
   "cell_type": "code",
   "execution_count": 39,
   "id": "458de6f1",
   "metadata": {},
   "outputs": [],
   "source": [
    "X_train, X_test, y_train, y_test = train_test_split(X, y, random_state=SEED, test_size=.2)"
   ]
  },
  {
   "cell_type": "code",
   "execution_count": 40,
   "id": "9f4df709",
   "metadata": {},
   "outputs": [
    {
     "name": "stdout",
     "output_type": "stream",
     "text": [
      "RandomForestRegressor scored: 0.9368503940974509\n",
      "LinearRegression scored: 0.9584658573939011\n",
      "DecisionTreeRegressor scored: 0.839615036341375\n",
      "XGBRegressor scored: 0.9665930501379139\n",
      "XGBRFRegressor scored: 0.8102676869921176\n"
     ]
    }
   ],
   "source": [
    "oracle.train_score_models(models=train_models, seed=SEED, X_train=X_train, y_train=y_train, X_test=X_test, y_test=y_test)"
   ]
  },
  {
   "cell_type": "markdown",
   "id": "fb55cc14",
   "metadata": {},
   "source": [
    "Out of the 5 estimators, We will continue the cross validation with the top 3.\n",
    "\n",
    "Which are XGBRegressor, XGBRFRegressor and RandomForestRegressor"
   ]
  },
  {
   "cell_type": "code",
   "execution_count": 43,
   "id": "9b6734d7",
   "metadata": {},
   "outputs": [],
   "source": [
    "cross_val_models = {\n",
    "    'RandomForestRegressor': RandomForestRegressor(),\n",
    "    'XGBRegressor': XGBRegressor(),\n",
    "    'LinearRegression': LinearRegression()\n",
    "}"
   ]
  },
  {
   "cell_type": "markdown",
   "id": "e31af28c",
   "metadata": {},
   "source": [
    "Let's score them using `R2`, it checks if our prediction is following the pattern of the actual values. The closer to 1 the better."
   ]
  },
  {
   "cell_type": "code",
   "execution_count": 44,
   "id": "cc76660e",
   "metadata": {},
   "outputs": [
    {
     "name": "stdout",
     "output_type": "stream",
     "text": [
      "RandomForestRegressor mean: 0.9074955972207709, std: 0.011942954785290841\n",
      "XGBRegressor mean: 0.9327441904891298, std: 0.021432275810894092\n",
      "LinearRegression mean: -353.721520881571, std: 612.7089740500094\n"
     ]
    }
   ],
   "source": [
    "oracle.crossval_models(models=cross_val_models, scoring='r2', seed=SEED, X=X, y=y)"
   ]
  },
  {
   "cell_type": "markdown",
   "id": "275f3d19",
   "metadata": {},
   "source": [
    "XGBRegressor is the best with respect to `r2` scoring."
   ]
  },
  {
   "cell_type": "markdown",
   "id": "b4355392",
   "metadata": {},
   "source": [
    "Let's score them using `neg_mean_squared_error`, this is the average of the square of our error in predicting, the smaller the better."
   ]
  },
  {
   "cell_type": "code",
   "execution_count": 45,
   "id": "9f24af06",
   "metadata": {},
   "outputs": [
    {
     "name": "stdout",
     "output_type": "stream",
     "text": [
      "RandomForestRegressor mean: -0.0016946185077241862, std: 0.0001415692460052566\n",
      "XGBRegressor mean: -0.0012262650507573953, std: 0.0003349046236382354\n",
      "LinearRegression mean: -6.2282864085804235, std: 10.810561272185383\n"
     ]
    }
   ],
   "source": [
    "oracle.crossval_models(models=cross_val_models, scoring='neg_mean_squared_error', seed=SEED, X=X, y=y)"
   ]
  },
  {
   "cell_type": "markdown",
   "id": "d9c0a451",
   "metadata": {},
   "source": [
    "XGBRegressor is the best with respect to `neg_mean_squared_error` scoring."
   ]
  },
  {
   "cell_type": "markdown",
   "id": "1df41e7a",
   "metadata": {},
   "source": [
    "Let's score them using `neg_root_mean_squared_error`, this is the root average of the square of our error in predicting, the smaller the better."
   ]
  },
  {
   "cell_type": "code",
   "execution_count": 46,
   "id": "86f718eb",
   "metadata": {},
   "outputs": [
    {
     "name": "stdout",
     "output_type": "stream",
     "text": [
      "RandomForestRegressor mean: -0.04112978754919857, std: 0.001720198791412274\n",
      "XGBRegressor mean: -0.0347237112814857, std: 0.004530885740936038\n",
      "LinearRegression mean: -1.4448093050535487, std: 2.0348986413605727\n"
     ]
    }
   ],
   "source": [
    "oracle.crossval_models(models=cross_val_models, scoring='neg_root_mean_squared_error', seed=SEED, X=X, y=y)"
   ]
  },
  {
   "cell_type": "markdown",
   "id": "197b5dee",
   "metadata": {},
   "source": [
    "XGBRegressor is the best with respect to `neg_root_mean_squared_error` scoring."
   ]
  },
  {
   "cell_type": "markdown",
   "id": "885feeb3",
   "metadata": {},
   "source": [
    "Let's score them using `neg_median_absolute_error`, this is the median of the errors we made (Squared), the smaller the better."
   ]
  },
  {
   "cell_type": "code",
   "execution_count": 47,
   "id": "4bf43a68",
   "metadata": {},
   "outputs": [
    {
     "name": "stdout",
     "output_type": "stream",
     "text": [
      "RandomForestRegressor mean: -0.02162746670202809, std: 0.0015576164993869894\n",
      "XGBRegressor mean: -0.016182087002567618, std: 0.0008581041581727493\n",
      "LinearRegression mean: -0.27341604414262993, std: 0.5078555846234488\n"
     ]
    }
   ],
   "source": [
    "oracle.crossval_models(models=cross_val_models, scoring='neg_median_absolute_error', seed=SEED, X=X, y=y)"
   ]
  },
  {
   "cell_type": "markdown",
   "id": "3c42fd0b",
   "metadata": {},
   "source": [
    "XGBRegressor is the best with respect to `neg_median_absolute_error` scoring."
   ]
  },
  {
   "cell_type": "markdown",
   "id": "aa267b9f",
   "metadata": {},
   "source": [
    "In general, it is obvious that `XGBRegressor` is best option already in all the scorings.\n",
    "\n",
    "Let's tune our parameters, just to be very sure. \n",
    "\n",
    "So we will tune the `RandomForestRegressor` and `XGBRegressor` estimators."
   ]
  },
  {
   "cell_type": "markdown",
   "id": "22744725",
   "metadata": {},
   "source": [
    "## Parameter Tuning"
   ]
  },
  {
   "cell_type": "markdown",
   "id": "c6b40d61",
   "metadata": {},
   "source": [
    "Here are our params"
   ]
  },
  {
   "cell_type": "code",
   "execution_count": 48,
   "id": "dbde90fe",
   "metadata": {},
   "outputs": [],
   "source": [
    "rf_params = {\n",
    "    \"n_estimators\": [50, 100],             # fewer trees for speed\n",
    "    \"max_depth\": [None, 10],               # shallow vs unlimited\n",
    "    \"min_samples_split\": [2, 5],           # low vs higher split\n",
    "    \"min_samples_leaf\": [1, 2],            # low vs higher leaf\n",
    "    \"max_features\": [\"sqrt\"],              # keep it simple\n",
    "    \"bootstrap\": [True],                   # avoid both True/False for speed\n",
    "    \"criterion\": [\"squared_error\"]         # stick with the standard\n",
    "}\n",
    "\n",
    "# --- XGBRegressor (Reduced) ---\n",
    "xgbr_params = {\n",
    "    \"n_estimators\": [50, 100, 200],        # cut down boosting rounds\n",
    "    \"learning_rate\": [0.05, 0.1],          # common values\n",
    "    \"max_depth\": [3, 5],                   # shallow vs medium\n",
    "    \"min_child_weight\": [1, 3],            # flexible\n",
    "    \"subsample\": [0.8, 1.0],               # avoid too many values\n",
    "    \"colsample_bytree\": [0.8],             # fixed for testing\n",
    "    \"gamma\": [0, 0.1],                     # lightweight\n",
    "    \"reg_alpha\": [0, 0.1],                 # light L1 regularization\n",
    "    \"reg_lambda\": [1]                      # standard L2\n",
    "}"
   ]
  },
  {
   "cell_type": "markdown",
   "id": "7bec12db",
   "metadata": {},
   "source": [
    "Let's do a random search to determine the best estimator with random parameters."
   ]
  },
  {
   "cell_type": "code",
   "execution_count": 49,
   "id": "8ea569e7",
   "metadata": {},
   "outputs": [],
   "source": [
    "random_models = [\n",
    "    ('RandomForestRegressor', RandomForestRegressor(), rf_params),\n",
    "    ('XGBRegressor', XGBRegressor(), xgbr_params)\n",
    "]"
   ]
  },
  {
   "cell_type": "code",
   "execution_count": 50,
   "id": "65c9609c",
   "metadata": {},
   "outputs": [
    {
     "name": "stdout",
     "output_type": "stream",
     "text": [
      "RandomForestRegressor best score: 0.9053916768116428 scored by r2\n",
      "XGBRegressor best score: 0.9474562969276434 scored by r2\n"
     ]
    }
   ],
   "source": [
    "random_search = oracle.random_search(models=random_models, X=X, y=y, n_iter=10)"
   ]
  },
  {
   "cell_type": "code",
   "execution_count": 51,
   "id": "5d5d89d3",
   "metadata": {},
   "outputs": [],
   "source": [
    "grid_models = [\n",
    "   ('XGBRegressor', XGBRegressor(), xgbr_params),\n",
    "]"
   ]
  },
  {
   "cell_type": "code",
   "execution_count": null,
   "id": "c347304e",
   "metadata": {},
   "outputs": [
    {
     "name": "stderr",
     "output_type": "stream",
     "text": [
      "Exception ignored on calling ctypes callback function: <bound method DataIter._next_wrapper of <xgboost.data.SingleBatchInternalIter object at 0x2afa2ed50>>\n",
      "Traceback (most recent call last):\n",
      "  File \"/Users/kennedyikeka/Documents/workshop/money_hound/.venv/lib/python3.11/site-packages/xgboost/core.py\", line 637, in _next_wrapper\n",
      "    return self._handle_exception(lambda: self.next(input_data), 0)\n",
      "           ^^^^^^^^^^^^^^^^^^^^^^^^^^^^^^^^^^^^^^^^^^^^^^^^^^^^^^^^\n",
      "  File \"/Users/kennedyikeka/Documents/workshop/money_hound/.venv/lib/python3.11/site-packages/xgboost/core.py\", line 550, in _handle_exception\n",
      "    return fn()\n",
      "           ^^^^\n",
      "  File \"/Users/kennedyikeka/Documents/workshop/money_hound/.venv/lib/python3.11/site-packages/xgboost/core.py\", line 637, in <lambda>\n",
      "    return self._handle_exception(lambda: self.next(input_data), 0)\n",
      "                                          ^^^^^^^^^^^^^^^^^^^^^\n",
      "  File \"/Users/kennedyikeka/Documents/workshop/money_hound/.venv/lib/python3.11/site-packages/xgboost/data.py\", line 1416, in next\n",
      "    input_data(**self.kwargs)\n",
      "  File \"/Users/kennedyikeka/Documents/workshop/money_hound/.venv/lib/python3.11/site-packages/xgboost/core.py\", line 726, in inner_f\n",
      "    return func(**kwargs)\n",
      "           ^^^^^^^^^^^^^^\n",
      "  File \"/Users/kennedyikeka/Documents/workshop/money_hound/.venv/lib/python3.11/site-packages/xgboost/core.py\", line 617, in input_data\n",
      "    new, cat_codes, feature_names, feature_types = _proxy_transform(\n",
      "                                                   ^^^^^^^^^^^^^^^^^\n",
      "  File \"/Users/kennedyikeka/Documents/workshop/money_hound/.venv/lib/python3.11/site-packages/xgboost/data.py\", line 1459, in _proxy_transform\n",
      "    df, feature_names, feature_types = _transform_pandas_df(\n",
      "                                       ^^^^^^^^^^^^^^^^^^^^^\n",
      "  File \"/Users/kennedyikeka/Documents/workshop/money_hound/.venv/lib/python3.11/site-packages/xgboost/data.py\", line 611, in _transform_pandas_df\n",
      "    arrays = pandas_transform_data(data)\n",
      "             ^^^^^^^^^^^^^^^^^^^^^^^^^^^\n",
      "  File \"/Users/kennedyikeka/Documents/workshop/money_hound/.venv/lib/python3.11/site-packages/xgboost/data.py\", line 550, in pandas_transform_data\n",
      "    result.append(oth_type(data[col]))\n",
      "                           ~~~~^^^^^\n",
      "  File \"/Users/kennedyikeka/Documents/workshop/money_hound/.venv/lib/python3.11/site-packages/pandas/core/frame.py\", line 4078, in __getitem__\n",
      "    return self._get_item_cache(key)\n",
      "           ^^^^^^^^^^^^^^^^^^^^^^^^^\n",
      "  File \"/Users/kennedyikeka/Documents/workshop/money_hound/.venv/lib/python3.11/site-packages/pandas/core/frame.py\", line 4644, in _get_item_cache\n",
      "    res._is_copy = self._is_copy\n",
      "    ^^^^^^^^^^^^\n",
      "  File \"/Users/kennedyikeka/Documents/workshop/money_hound/.venv/lib/python3.11/site-packages/pandas/core/generic.py\", line 6313, in __setattr__\n",
      "    return object.__setattr__(self, name, value)\n",
      "           ^^^^^^^^^^^^^^^^^^^^^^^^^^^^^^^^^^^^^\n",
      "KeyboardInterrupt: \n"
     ]
    }
   ],
   "source": [
    "grid_search = oracle.grid_search(models=grid_models, X=X, y=y)"
   ]
  },
  {
   "cell_type": "code",
   "execution_count": null,
   "id": "1411d8fa",
   "metadata": {},
   "outputs": [],
   "source": [
    "model = grid_search[0]['Best Estimator']"
   ]
  },
  {
   "cell_type": "code",
   "execution_count": null,
   "id": "b7cdc2b1",
   "metadata": {},
   "outputs": [
    {
     "data": {
      "text/plain": [
       "['../models/predict_fraud_score_model_20250906_073426']"
      ]
     },
     "execution_count": 27,
     "metadata": {},
     "output_type": "execute_result"
    }
   ],
   "source": [
    "# Save the model\n",
    "\n",
    "# model = XGBRegressor()\n",
    "# model.fit(X_train, y_train)\n",
    "# model.score(X_test, y_test)\n",
    "\n",
    "\n",
    "timestamp = datetime.now().strftime(\"%Y%m%d_%H%M%S\")\n",
    "joblib.dump(model, f\"../models/predict_fraud_score_model_{timestamp}\")"
   ]
  },
  {
   "cell_type": "code",
   "execution_count": null,
   "id": "010888af",
   "metadata": {},
   "outputs": [],
   "source": []
  }
 ],
 "metadata": {
  "kernelspec": {
   "display_name": ".venv",
   "language": "python",
   "name": "python3"
  },
  "language_info": {
   "codemirror_mode": {
    "name": "ipython",
    "version": 3
   },
   "file_extension": ".py",
   "mimetype": "text/x-python",
   "name": "python",
   "nbconvert_exporter": "python",
   "pygments_lexer": "ipython3",
   "version": "3.11.5"
  }
 },
 "nbformat": 4,
 "nbformat_minor": 5
}
